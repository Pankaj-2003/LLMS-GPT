{
  "nbformat": 4,
  "nbformat_minor": 0,
  "metadata": {
    "colab": {
      "provenance": [],
      "authorship_tag": "ABX9TyO0ztBR1Arw85KS37H+sjQz",
      "include_colab_link": true
    },
    "kernelspec": {
      "name": "python3",
      "display_name": "Python 3"
    },
    "language_info": {
      "name": "python"
    }
  },
  "cells": [
    {
      "cell_type": "markdown",
      "metadata": {
        "id": "view-in-github",
        "colab_type": "text"
      },
      "source": [
        "<a href=\"https://colab.research.google.com/github/Pankaj-2003/LLMS-GPT/blob/main/makemore_part2.ipynb\" target=\"_parent\"><img src=\"https://colab.research.google.com/assets/colab-badge.svg\" alt=\"Open In Colab\"/></a>"
      ]
    },
    {
      "cell_type": "code",
      "execution_count": 1,
      "metadata": {
        "id": "Yq7kalVlaI0t"
      },
      "outputs": [],
      "source": [
        "import torch\n",
        "import torch.nn.functional as F\n",
        "import matplotlib.pyplot as plt # for making figures\n",
        "%matplotlib inline"
      ]
    },
    {
      "cell_type": "code",
      "source": [
        "# read in all the words\n",
        "words = open('names.txt', 'r').read().splitlines()\n",
        "words[:8]"
      ],
      "metadata": {
        "colab": {
          "base_uri": "https://localhost:8080/"
        },
        "id": "tzyaB88eJoNR",
        "outputId": "cb3befdc-c784-4f91-a254-6f706237e7f5"
      },
      "execution_count": 2,
      "outputs": [
        {
          "output_type": "execute_result",
          "data": {
            "text/plain": [
              "['emma', 'olivia', 'ava', 'isabella', 'sophia', 'charlotte', 'mia', 'amelia']"
            ]
          },
          "metadata": {},
          "execution_count": 2
        }
      ]
    },
    {
      "cell_type": "code",
      "source": [
        "# build the vocabulary of characters and mappings to/from integers\n",
        "chars = sorted(list(set(''.join(words))))\n",
        "stoi = {s:i+1 for i,s in enumerate(chars)}\n",
        "stoi['.'] = 0\n",
        "itos = {i:s for s,i in stoi.items()}\n",
        "print(itos)"
      ],
      "metadata": {
        "colab": {
          "base_uri": "https://localhost:8080/"
        },
        "id": "z_b9w-6WJp2O",
        "outputId": "b3f52d83-055c-4bc8-d94d-8d14bb04bba3"
      },
      "execution_count": 3,
      "outputs": [
        {
          "output_type": "stream",
          "name": "stdout",
          "text": [
            "{1: 'a', 2: 'b', 3: 'c', 4: 'd', 5: 'e', 6: 'f', 7: 'g', 8: 'h', 9: 'i', 10: 'j', 11: 'k', 12: 'l', 13: 'm', 14: 'n', 15: 'o', 16: 'p', 17: 'q', 18: 'r', 19: 's', 20: 't', 21: 'u', 22: 'v', 23: 'w', 24: 'x', 25: 'y', 26: 'z', 0: '.'}\n"
          ]
        }
      ]
    },
    {
      "cell_type": "code",
      "source": [
        "# build the dataset\n",
        "\n",
        "block_size = 3 # context length: how many characters do we take to predict the next one?\n",
        "X, Y = [], []\n",
        "for w in words:\n",
        "  # print(w)\n",
        "  context = [0] * block_size\n",
        "  for ch in w + '.':\n",
        "    ix = stoi[ch]\n",
        "    X.append(context)\n",
        "    # print(X)\n",
        "    Y.append(ix)\n",
        "    # print(Y)\n",
        "    # print(''.join(itos[i] for i in context), '--->', itos[ix])\n",
        "    context = context[1:] + [ix] # crop and append\n",
        "\n",
        "X = torch.tensor(X)\n",
        "Y = torch.tensor(Y)"
      ],
      "metadata": {
        "id": "AlFU3v52K5mc"
      },
      "execution_count": 32,
      "outputs": []
    },
    {
      "cell_type": "code",
      "source": [
        "X"
      ],
      "metadata": {
        "colab": {
          "base_uri": "https://localhost:8080/"
        },
        "id": "yp2GuE3YJamh",
        "outputId": "0858b3b1-a940-4cf5-8388-951bc2c7d5cb"
      },
      "execution_count": 22,
      "outputs": [
        {
          "output_type": "execute_result",
          "data": {
            "text/plain": [
              "tensor([[ 0,  0,  0],\n",
              "        [ 0,  0,  5],\n",
              "        [ 0,  5, 13],\n",
              "        ...,\n",
              "        [26, 26, 25],\n",
              "        [26, 25, 26],\n",
              "        [25, 26, 24]])"
            ]
          },
          "metadata": {},
          "execution_count": 22
        }
      ]
    },
    {
      "cell_type": "code",
      "source": [
        "X.shape , Y.shape"
      ],
      "metadata": {
        "id": "tbsdIhmAXi43",
        "colab": {
          "base_uri": "https://localhost:8080/"
        },
        "outputId": "588ecfa3-5529-4b56-cd18-9c61a72f92bc"
      },
      "execution_count": 23,
      "outputs": [
        {
          "output_type": "execute_result",
          "data": {
            "text/plain": [
              "(torch.Size([228146, 3]), torch.Size([228146]))"
            ]
          },
          "metadata": {},
          "execution_count": 23
        }
      ]
    },
    {
      "cell_type": "markdown",
      "source": [
        "#### Making embeddings for our 27 chars (27,2) , the paper had 27k words which they embedded in a space of 30D , but we will do 2D.\n",
        "#### And our input to neural net will be indexes.\n",
        "#### The weight matrix can be C , and input will be index."
      ],
      "metadata": {
        "id": "t8jh_ORDsNpc"
      }
    },
    {
      "cell_type": "code",
      "source": [
        "# build the dataset\n",
        "block_size = 3 # context length: how many characters do we take to predict the next one?\n",
        "\n",
        "def build_dataset(words):\n",
        "  X, Y = [], []\n",
        "  for w in words:\n",
        "\n",
        "    #print(w)\n",
        "    context = [0] * block_size\n",
        "    for ch in w + '.':\n",
        "      ix = stoi[ch]\n",
        "      X.append(context)\n",
        "      Y.append(ix)\n",
        "      context = context[1:] + [ix] # crop and append\n",
        "\n",
        "  X = torch.tensor(X)\n",
        "  Y = torch.tensor(Y)\n",
        "  print(X.shape, Y.shape)\n",
        "  return X, Y\n",
        "\n",
        "import random\n",
        "random.seed(42)\n",
        "random.shuffle(words)\n",
        "n1 = int(0.8*len(words))\n",
        "n2 = int(0.9*len(words))\n",
        "\n",
        "Xtr, Ytr = build_dataset(words[:n1])\n",
        "Xdev, Ydev = build_dataset(words[n1:n2])\n",
        "Xte, Yte = build_dataset(words[n2:])"
      ],
      "metadata": {
        "colab": {
          "base_uri": "https://localhost:8080/"
        },
        "id": "0mIlf1rCkWxj",
        "outputId": "de7c7104-3532-4314-c96a-373dee762a7f"
      },
      "execution_count": 33,
      "outputs": [
        {
          "output_type": "stream",
          "name": "stdout",
          "text": [
            "torch.Size([182580, 3]) torch.Size([182580])\n",
            "torch.Size([22767, 3]) torch.Size([22767])\n",
            "torch.Size([22799, 3]) torch.Size([22799])\n"
          ]
        }
      ]
    },
    {
      "cell_type": "code",
      "source": [
        "C[X]"
      ],
      "metadata": {
        "id": "45-CpvR5lRN5",
        "colab": {
          "base_uri": "https://localhost:8080/"
        },
        "outputId": "d6ad3359-306e-4fdc-9c93-35488ec939b8"
      },
      "execution_count": 30,
      "outputs": [
        {
          "output_type": "execute_result",
          "data": {
            "text/plain": [
              "tensor([[[-0.1482, -0.3486],\n",
              "         [-0.1482, -0.3486],\n",
              "         [-0.1482, -0.3486]],\n",
              "\n",
              "        [[-0.1482, -0.3486],\n",
              "         [-0.1482, -0.3486],\n",
              "         [ 1.2729,  0.2831]],\n",
              "\n",
              "        [[-0.1482, -0.3486],\n",
              "         [ 1.2729,  0.2831],\n",
              "         [-1.3120,  1.7955]],\n",
              "\n",
              "        ...,\n",
              "\n",
              "        [[-0.8495,  0.8115],\n",
              "         [-0.8495,  0.8115],\n",
              "         [-1.3175,  0.6455]],\n",
              "\n",
              "        [[-0.8495,  0.8115],\n",
              "         [-1.3175,  0.6455],\n",
              "         [-0.8495,  0.8115]],\n",
              "\n",
              "        [[-1.3175,  0.6455],\n",
              "         [-0.8495,  0.8115],\n",
              "         [-0.4391,  0.2781]]])"
            ]
          },
          "metadata": {},
          "execution_count": 30
        }
      ]
    },
    {
      "cell_type": "code",
      "source": [
        "# embeddings for each alphabet\n",
        "C = torch.randn((27,2))"
      ],
      "metadata": {
        "id": "vGr7hxWxX_ed"
      },
      "execution_count": 25,
      "outputs": []
    },
    {
      "cell_type": "code",
      "source": [
        "C"
      ],
      "metadata": {
        "colab": {
          "base_uri": "https://localhost:8080/"
        },
        "id": "GzuJygte95BS",
        "outputId": "ebf9cd34-4a60-4e9e-f95b-8b1993eca3dc",
        "collapsed": true
      },
      "execution_count": 26,
      "outputs": [
        {
          "output_type": "execute_result",
          "data": {
            "text/plain": [
              "tensor([[-0.1482, -0.3486],\n",
              "        [-1.1055, -0.3096],\n",
              "        [-0.6486, -0.7078],\n",
              "        [ 0.4480, -0.8168],\n",
              "        [-0.8853, -0.5056],\n",
              "        [ 1.2729,  0.2831],\n",
              "        [-0.2787,  1.2615],\n",
              "        [-0.2166,  0.3655],\n",
              "        [ 1.0714, -0.6155],\n",
              "        [ 0.7984, -1.9375],\n",
              "        [-0.4544,  0.7601],\n",
              "        [ 0.4857,  0.8650],\n",
              "        [ 0.9956, -0.3164],\n",
              "        [-1.3120,  1.7955],\n",
              "        [-0.1886, -0.3521],\n",
              "        [ 0.4705,  0.3874],\n",
              "        [-0.8782,  2.5877],\n",
              "        [ 0.4520,  0.3147],\n",
              "        [ 0.3183,  0.9478],\n",
              "        [ 0.1205, -0.5388],\n",
              "        [ 0.9989,  0.6714],\n",
              "        [-0.2054, -0.0243],\n",
              "        [ 0.0412,  0.4636],\n",
              "        [-0.3125, -1.5435],\n",
              "        [-0.4391,  0.2781],\n",
              "        [-1.3175,  0.6455],\n",
              "        [-0.8495,  0.8115]])"
            ]
          },
          "metadata": {},
          "execution_count": 26
        }
      ]
    },
    {
      "cell_type": "code",
      "source": [
        "g = torch.Generator().manual_seed(2147483647) # for reproducibility\n",
        "C = torch.randn((27, 2), generator=g)\n",
        "W1 = torch.randn((6, 300), generator=g)\n",
        "b1 = torch.randn(300, generator=g)\n",
        "W2 = torch.randn((300, 27), generator=g)\n",
        "b2 = torch.randn(27, generator=g)\n",
        "parameters = [C, W1, b1, W2, b2]"
      ],
      "metadata": {
        "id": "mXCMBurtUlSn"
      },
      "execution_count": 48,
      "outputs": []
    },
    {
      "cell_type": "code",
      "source": [
        "lre = torch.linspace(-3 , 0 , 1000)\n",
        "lrs = 10**lre"
      ],
      "metadata": {
        "collapsed": true,
        "id": "5P_9UvuG4WqU"
      },
      "execution_count": 44,
      "outputs": []
    },
    {
      "cell_type": "code",
      "source": [
        "\n",
        "# training neural net\n",
        "lri = []\n",
        "lossi = []\n",
        "stepi  = []\n",
        "# forward pass\n",
        "for p in parameters:\n",
        "  p.requires_grad = True\n",
        "\n",
        "for k in range(30000):\n",
        "  # minibatch\n",
        "  ix = torch.randint(0, Xtr.shape[0], (32,))\n",
        "  X_b = Xtr[ix]\n",
        "  Y_b = Ytr[ix]\n",
        "  # forward pass\n",
        "  emb_x = C[X_b]  # (32, 3 , 2)\n",
        "  h = torch.tanh(emb_x.view(-1,6) @ W1 + b1)   # (32,100)\n",
        "\n",
        "  logits = h @ W2 + b2   # (32,27)\n",
        "  loss = F.cross_entropy(logits, Y_b)\n",
        "  # print(loss.item())\n",
        "\n",
        "  # backward pass\n",
        "  for p in parameters:\n",
        "    p.grad = None\n",
        "\n",
        "  loss.backward()\n",
        "  # lr = lrs[k]\n",
        "  lr = 0.01\n",
        "  # update\n",
        "  for p in parameters:\n",
        "    p.data += -lr * p.grad\n",
        "  # track\n",
        "  # lri.append(lre[k])\n",
        "\n",
        "  lossi.append(loss.item())\n",
        "  stepi.append(k)\n",
        "\n",
        "print(loss.item())"
      ],
      "metadata": {
        "id": "I9BV42Cc8Oy3",
        "colab": {
          "base_uri": "https://localhost:8080/"
        },
        "outputId": "3c30aeda-2795-458e-e51d-bc92ecbd4761",
        "collapsed": true
      },
      "execution_count": 62,
      "outputs": [
        {
          "output_type": "stream",
          "name": "stdout",
          "text": [
            "2.338690996170044\n"
          ]
        }
      ]
    },
    {
      "cell_type": "code",
      "source": [
        "\n",
        "plt.plot(stepi , lossi)"
      ],
      "metadata": {
        "id": "ZWCXgCe18O2f",
        "colab": {
          "base_uri": "https://localhost:8080/",
          "height": 447
        },
        "outputId": "b03103d2-e89e-403d-af3f-3dba1a82fe65",
        "collapsed": true
      },
      "execution_count": 50,
      "outputs": [
        {
          "output_type": "execute_result",
          "data": {
            "text/plain": [
              "[<matplotlib.lines.Line2D at 0x7baeefab12d0>]"
            ]
          },
          "metadata": {},
          "execution_count": 50
        },
        {
          "output_type": "display_data",
          "data": {
            "text/plain": [
              "<Figure size 640x480 with 1 Axes>"
            ],
            "image/png": "[encoded data removed]"
          },
          "metadata": {}
        }
      ]
    },
    {
      "cell_type": "code",
      "source": [
        "# training split for parameters w and b , validation split  this for hyperparameters  , test split\n",
        "emb = C[Xtr] # (32, 3, 2)\n",
        "h = torch.tanh(emb.view(-1, 6) @ W1 + b1) # (32, 100)\n",
        "logits = h @ W2 + b2 # (32, 27)\n",
        "loss = F.cross_entropy(logits, Ytr)\n",
        "loss\n",
        "\n",
        "\n",
        "\n"
      ],
      "metadata": {
        "id": "6bhhF8Jz8O6I",
        "collapsed": true,
        "colab": {
          "base_uri": "https://localhost:8080/"
        },
        "outputId": "983e41f2-9573-4182-d6c8-665ff6a8a79d"
      },
      "execution_count": 63,
      "outputs": [
        {
          "output_type": "execute_result",
          "data": {
            "text/plain": [
              "tensor(2.2313, grad_fn=<NllLossBackward0>)"
            ]
          },
          "metadata": {},
          "execution_count": 63
        }
      ]
    },
    {
      "cell_type": "code",
      "source": [
        "emb = C[Xdev] # (32, 3, 2)\n",
        "h = torch.tanh(emb.view(-1, 6) @ W1 + b1) # (32, 100)\n",
        "logits = h @ W2 + b2 # (32, 27)\n",
        "loss = F.cross_entropy(logits, Ydev)\n",
        "loss"
      ],
      "metadata": {
        "id": "qWtAS6u_ixkX",
        "colab": {
          "base_uri": "https://localhost:8080/"
        },
        "outputId": "06afaabd-a3fd-485e-e25c-1f3e9653d8af"
      },
      "execution_count": 64,
      "outputs": [
        {
          "output_type": "execute_result",
          "data": {
            "text/plain": [
              "tensor(2.2491, grad_fn=<NllLossBackward0>)"
            ]
          },
          "metadata": {},
          "execution_count": 64
        }
      ]
    },
    {
      "cell_type": "code",
      "source": [
        "plt.figure(figsize=(8,8))\n",
        "plt.scatter(C[:,0].data, C[:,1].data, s=200)\n",
        "for i in range(C.shape[0]):\n",
        "    plt.text(C[i,0].item(), C[i,1].item(), itos[i], ha=\"center\", va=\"center\", color='white')\n",
        "plt.grid('minor')"
      ],
      "metadata": {
        "id": "OLfuGDwaixob",
        "colab": {
          "base_uri": "https://localhost:8080/",
          "height": 676
        },
        "outputId": "b51920e9-c882-41c2-87c9-85162b225f7c"
      },
      "execution_count": 65,
      "outputs": [
        {
          "output_type": "display_data",
          "data": {
            "text/plain": [
              "<Figure size 800x800 with 1 Axes>"
            ],
            "image/png": "[encoded data removed]"
          },
          "metadata": {}
        }
      ]
    },
    {
      "cell_type": "code",
      "source": [],
      "metadata": {
        "id": "2hva8H-5ixrQ"
      },
      "execution_count": null,
      "outputs": []
    },
    {
      "cell_type": "code",
      "source": [],
      "metadata": {
        "id": "xtKmfBf7ixtx"
      },
      "execution_count": null,
      "outputs": []
    },
    {
      "cell_type": "code",
      "source": [],
      "metadata": {
        "id": "bZE49AeNixy3"
      },
      "execution_count": null,
      "outputs": []
    },
    {
      "cell_type": "code",
      "source": [],
      "metadata": {
        "id": "OXauW6O8ix1v"
      },
      "execution_count": null,
      "outputs": []
    },
    {
      "cell_type": "code",
      "source": [],
      "metadata": {
        "id": "1nHZYlwOix4r"
      },
      "execution_count": null,
      "outputs": []
    },
    {
      "cell_type": "code",
      "source": [],
      "metadata": {
        "id": "-kmMLEwTix7c"
      },
      "execution_count": null,
      "outputs": []
    },
    {
      "cell_type": "code",
      "source": [],
      "metadata": {
        "id": "JTRFYWvdiyBC"
      },
      "execution_count": null,
      "outputs": []
    }
  ]
}