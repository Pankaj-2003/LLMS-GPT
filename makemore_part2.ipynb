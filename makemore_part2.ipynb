{
  "nbformat": 4,
  "nbformat_minor": 0,
  "metadata": {
    "colab": {
      "provenance": [],
      "authorship_tag": "ABX9TyMA5F8EIplbOrsCWz+Jel2M",
      "include_colab_link": true
    },
    "kernelspec": {
      "name": "python3",
      "display_name": "Python 3"
    },
    "language_info": {
      "name": "python"
    }
  },
  "cells": [
    {
      "cell_type": "markdown",
      "metadata": {
        "id": "view-in-github",
        "colab_type": "text"
      },
      "source": [
        "<a href=\"https://colab.research.google.com/github/Pankaj-2003/LLMS-GPT/blob/main/makemore_part2.ipynb\" target=\"_parent\"><img src=\"https://colab.research.google.com/assets/colab-badge.svg\" alt=\"Open In Colab\"/></a>"
      ]
    },
    {
      "cell_type": "code",
      "execution_count": 1,
      "metadata": {
        "id": "Yq7kalVlaI0t"
      },
      "outputs": [],
      "source": [
        "import torch\n",
        "import torch.nn.functional as F\n",
        "import matplotlib.pyplot as plt # for making figures\n",
        "%matplotlib inline"
      ]
    },
    {
      "cell_type": "code",
      "source": [
        "# read in all the words\n",
        "words = open('names.txt', 'r').read().splitlines()\n",
        "words[:8]"
      ],
      "metadata": {
        "colab": {
          "base_uri": "https://localhost:8080/"
        },
        "id": "tzyaB88eJoNR",
        "outputId": "73afcd6c-0590-43fb-d79c-b2862c8e4ae4"
      },
      "execution_count": 2,
      "outputs": [
        {
          "output_type": "execute_result",
          "data": {
            "text/plain": [
              "['emma', 'olivia', 'ava', 'isabella', 'sophia', 'charlotte', 'mia', 'amelia']"
            ]
          },
          "metadata": {},
          "execution_count": 2
        }
      ]
    },
    {
      "cell_type": "code",
      "source": [
        "# build the vocabulary of characters and mappings to/from integers\n",
        "chars = sorted(list(set(''.join(words))))\n",
        "stoi = {s:i+1 for i,s in enumerate(chars)}\n",
        "stoi['.'] = 0\n",
        "itos = {i:s for s,i in stoi.items()}\n",
        "print(itos)"
      ],
      "metadata": {
        "colab": {
          "base_uri": "https://localhost:8080/"
        },
        "id": "z_b9w-6WJp2O",
        "outputId": "7fab29a9-9784-4c7e-c317-18c27f1a705b"
      },
      "execution_count": 3,
      "outputs": [
        {
          "output_type": "stream",
          "name": "stdout",
          "text": [
            "{1: 'a', 2: 'b', 3: 'c', 4: 'd', 5: 'e', 6: 'f', 7: 'g', 8: 'h', 9: 'i', 10: 'j', 11: 'k', 12: 'l', 13: 'm', 14: 'n', 15: 'o', 16: 'p', 17: 'q', 18: 'r', 19: 's', 20: 't', 21: 'u', 22: 'v', 23: 'w', 24: 'x', 25: 'y', 26: 'z', 0: '.'}\n"
          ]
        }
      ]
    },
    {
      "cell_type": "code",
      "source": [
        "# build the dataset\n",
        "\n",
        "block_size = 3 # context length: how many characters do we take to predict the next one?\n",
        "X, Y = [], []\n",
        "for w in words:\n",
        "  # print(w)\n",
        "  context = [0] * block_size\n",
        "  for ch in w + '.':\n",
        "    ix = stoi[ch]\n",
        "    X.append(context)\n",
        "    # print(X)\n",
        "    Y.append(ix)\n",
        "    # print(Y)\n",
        "    # print(''.join(itos[i] for i in context), '--->', itos[ix])\n",
        "    context = context[1:] + [ix] # crop and append\n",
        "\n",
        "X = torch.tensor(X)\n",
        "Y = torch.tensor(Y)"
      ],
      "metadata": {
        "id": "AlFU3v52K5mc"
      },
      "execution_count": 4,
      "outputs": []
    },
    {
      "cell_type": "code",
      "source": [
        "X"
      ],
      "metadata": {
        "colab": {
          "base_uri": "https://localhost:8080/"
        },
        "id": "yp2GuE3YJamh",
        "outputId": "b8509be9-3c58-461c-cb6b-94e22425b0cf"
      },
      "execution_count": 5,
      "outputs": [
        {
          "output_type": "execute_result",
          "data": {
            "text/plain": [
              "tensor([[ 0,  0,  0],\n",
              "        [ 0,  0,  5],\n",
              "        [ 0,  5, 13],\n",
              "        ...,\n",
              "        [26, 26, 25],\n",
              "        [26, 25, 26],\n",
              "        [25, 26, 24]])"
            ]
          },
          "metadata": {},
          "execution_count": 5
        }
      ]
    },
    {
      "cell_type": "code",
      "source": [
        "X.shape , Y.shape"
      ],
      "metadata": {
        "id": "tbsdIhmAXi43",
        "colab": {
          "base_uri": "https://localhost:8080/"
        },
        "outputId": "588ecfa3-5529-4b56-cd18-9c61a72f92bc"
      },
      "execution_count": null,
      "outputs": [
        {
          "output_type": "execute_result",
          "data": {
            "text/plain": [
              "(torch.Size([228146, 3]), torch.Size([228146]))"
            ]
          },
          "metadata": {},
          "execution_count": 23
        }
      ]
    },
    {
      "cell_type": "markdown",
      "source": [
        "#### Making embeddings for our 27 chars (27,2) , the paper had 27k words which they embedded in a space of 30D , but we will do 2D.\n",
        "#### And our input to neural net will be indexes.\n",
        "#### The weight matrix can be C , and input will be index."
      ],
      "metadata": {
        "id": "t8jh_ORDsNpc"
      }
    },
    {
      "cell_type": "code",
      "source": [
        "# build the dataset\n",
        "block_size = 3 # context length: how many characters do we take to predict the next one?\n",
        "\n",
        "def build_dataset(words):\n",
        "  X, Y = [], []\n",
        "  for w in words:\n",
        "\n",
        "    #print(w)\n",
        "    context = [0] * block_size\n",
        "    for ch in w + '.':\n",
        "      ix = stoi[ch]\n",
        "      X.append(context)\n",
        "      Y.append(ix)\n",
        "      context = context[1:] + [ix] # crop and append\n",
        "\n",
        "  X = torch.tensor(X)\n",
        "  Y = torch.tensor(Y)\n",
        "  print(X.shape, Y.shape)\n",
        "  return X, Y\n",
        "\n",
        "import random\n",
        "random.seed(42)\n",
        "random.shuffle(words)\n",
        "n1 = int(0.8*len(words))\n",
        "n2 = int(0.9*len(words))\n",
        "\n",
        "Xtr, Ytr = build_dataset(words[:n1])\n",
        "Xdev, Ydev = build_dataset(words[n1:n2])\n",
        "Xte, Yte = build_dataset(words[n2:])"
      ],
      "metadata": {
        "colab": {
          "base_uri": "https://localhost:8080/"
        },
        "id": "0mIlf1rCkWxj",
        "outputId": "00bb4121-6201-4bda-c8ac-1abb2e13b8e8"
      },
      "execution_count": 6,
      "outputs": [
        {
          "output_type": "stream",
          "name": "stdout",
          "text": [
            "torch.Size([182625, 3]) torch.Size([182625])\n",
            "torch.Size([22655, 3]) torch.Size([22655])\n",
            "torch.Size([22866, 3]) torch.Size([22866])\n"
          ]
        }
      ]
    },
    {
      "cell_type": "code",
      "source": [
        "C[X]"
      ],
      "metadata": {
        "id": "45-CpvR5lRN5",
        "colab": {
          "base_uri": "https://localhost:8080/"
        },
        "outputId": "d6ad3359-306e-4fdc-9c93-35488ec939b8"
      },
      "execution_count": null,
      "outputs": [
        {
          "output_type": "execute_result",
          "data": {
            "text/plain": [
              "tensor([[[-0.1482, -0.3486],\n",
              "         [-0.1482, -0.3486],\n",
              "         [-0.1482, -0.3486]],\n",
              "\n",
              "        [[-0.1482, -0.3486],\n",
              "         [-0.1482, -0.3486],\n",
              "         [ 1.2729,  0.2831]],\n",
              "\n",
              "        [[-0.1482, -0.3486],\n",
              "         [ 1.2729,  0.2831],\n",
              "         [-1.3120,  1.7955]],\n",
              "\n",
              "        ...,\n",
              "\n",
              "        [[-0.8495,  0.8115],\n",
              "         [-0.8495,  0.8115],\n",
              "         [-1.3175,  0.6455]],\n",
              "\n",
              "        [[-0.8495,  0.8115],\n",
              "         [-1.3175,  0.6455],\n",
              "         [-0.8495,  0.8115]],\n",
              "\n",
              "        [[-1.3175,  0.6455],\n",
              "         [-0.8495,  0.8115],\n",
              "         [-0.4391,  0.2781]]])"
            ]
          },
          "metadata": {},
          "execution_count": 30
        }
      ]
    },
    {
      "cell_type": "code",
      "source": [
        "# embeddings for each alphabet\n",
        "C = torch.randn((27,2))"
      ],
      "metadata": {
        "id": "vGr7hxWxX_ed"
      },
      "execution_count": null,
      "outputs": []
    },
    {
      "cell_type": "code",
      "source": [
        "input = torch.randn((1,6))\n",
        "weights = torch.randn((6,100))\n",
        "output = input @ weights\n",
        "output.shape"
      ],
      "metadata": {
        "colab": {
          "base_uri": "https://localhost:8080/"
        },
        "id": "GzuJygte95BS",
        "outputId": "f015a693-b57e-479d-a1f5-87a8f9f21cbf",
        "collapsed": true
      },
      "execution_count": null,
      "outputs": [
        {
          "output_type": "execute_result",
          "data": {
            "text/plain": [
              "torch.Size([1, 100])"
            ]
          },
          "metadata": {},
          "execution_count": 30
        }
      ]
    },
    {
      "cell_type": "code",
      "source": [
        "torch.randn((1,6))\n",
        "torch.randn((100,27))[0]\n"
      ],
      "metadata": {
        "colab": {
          "base_uri": "https://localhost:8080/"
        },
        "id": "r6QJRMQctWwp",
        "outputId": "a14ef6c8-9bfe-470a-88be-a3b760bcf332"
      },
      "execution_count": null,
      "outputs": [
        {
          "output_type": "execute_result",
          "data": {
            "text/plain": [
              "tensor([ 2.4426, -1.7826, -1.3188, -0.8810, -0.0038, -0.1012, -0.0351, -1.6199,\n",
              "         0.7342, -0.5516,  0.8812, -0.6778, -0.7437,  0.1506, -1.1346,  0.7709,\n",
              "         0.4560, -1.0686,  1.9880, -1.0703,  0.3448, -0.4128, -0.9942,  1.1625,\n",
              "        -0.3947,  0.7453,  1.0583])"
            ]
          },
          "metadata": {},
          "execution_count": 33
        }
      ]
    },
    {
      "cell_type": "code",
      "source": [
        "g = torch.Generator().manual_seed(2147483647) # for reproducibility\n",
        "C = torch.randn((27, 10), generator=g)\n",
        "W1 = torch.randn((30, 200), generator=g) # 6 input size and 200 is the no of neurons in the hidden layer\n",
        "b1 = torch.randn(200, generator=g)\n",
        "W2 = torch.randn((200, 27), generator=g)\n",
        "b2 = torch.randn(27, generator=g)\n",
        "parameters = [C, W1, b1, W2, b2]"
      ],
      "metadata": {
        "id": "mXCMBurtUlSn"
      },
      "execution_count": 70,
      "outputs": []
    },
    {
      "cell_type": "code",
      "source": [
        "W1"
      ],
      "metadata": {
        "colab": {
          "base_uri": "https://localhost:8080/"
        },
        "id": "t5wfkIbSWbb8",
        "outputId": "b517810c-1a8b-4ebd-f778-f7bf397a9381"
      },
      "execution_count": null,
      "outputs": [
        {
          "output_type": "execute_result",
          "data": {
            "text/plain": [
              "tensor([[ 6.1690e-01,  1.5160e+00,  2.4720e-01,  ...,  8.2253e-01,\n",
              "          1.7068e+00,  6.7033e-02],\n",
              "        [-2.2439e-01,  5.1658e-01, -9.4188e-01,  ..., -8.0919e-02,\n",
              "         -2.5415e-01, -1.2758e-03],\n",
              "        [ 1.6293e-01,  1.3413e+00,  1.2230e+00,  ...,  1.1552e-01,\n",
              "         -1.2586e+00, -6.3704e-01],\n",
              "        [-1.1634e+00, -1.3736e+00,  2.0308e+00,  ..., -2.7284e-01,\n",
              "          2.5866e+00,  1.5013e-01],\n",
              "        [ 2.4152e+00, -8.0001e-01, -2.1576e+00,  ...,  9.1956e-01,\n",
              "          4.7423e-01,  1.2412e+00],\n",
              "        [-1.2105e+00, -6.7169e-01,  1.8426e-01,  ..., -1.4425e+00,\n",
              "          2.5825e-01,  2.1147e+00]])"
            ]
          },
          "metadata": {},
          "execution_count": 8
        }
      ]
    },
    {
      "cell_type": "code",
      "source": [
        "lre = torch.linspace(-3 , 0 , 1000)\n",
        "lrs = 10**lre"
      ],
      "metadata": {
        "collapsed": true,
        "id": "5P_9UvuG4WqU"
      },
      "execution_count": null,
      "outputs": []
    },
    {
      "cell_type": "code",
      "source": [
        "lri = []\n",
        "lossi = []\n",
        "stepi  = []"
      ],
      "metadata": {
        "id": "Oo11HlPwU0oc"
      },
      "execution_count": 71,
      "outputs": []
    },
    {
      "cell_type": "code",
      "source": [
        "\n",
        "# training neural net\n",
        "\n",
        "# forward pass\n",
        "for p in parameters:\n",
        "  p.requires_grad = True\n",
        "\n",
        "for k in range(200000):\n",
        "  # minibatch\n",
        "  ix = torch.randint(0, Xtr.shape[0], (32,))\n",
        "  X_b = Xtr[ix]\n",
        "  Y_b = Ytr[ix]\n",
        "  # forward pass\n",
        "  emb_x = C[X_b]  # (32, 3 , 2)\n",
        "  h = torch.tanh(emb_x.view(-1,30) @ W1 + b1)   # (32,100)\n",
        "\n",
        "  logits = h @ W2 + b2   # (32,27)\n",
        "  loss = F.cross_entropy(logits, Y_b)\n",
        "  # print(loss.item())\n",
        "\n",
        "  # backward pass\n",
        "  for p in parameters:\n",
        "    p.grad = None\n",
        "\n",
        "  loss.backward()\n",
        "  # lr = lrs[k]\n",
        "\n",
        "  lr = 0.1 if k < 100000 else 0.01\n",
        "  # update\n",
        "  for p in parameters:\n",
        "    p.data += -lr * p.grad\n",
        "  # track\n",
        "  # lri.append(lre[k])\n",
        "\n",
        "  lossi.append(loss.log10().item())\n",
        "  stepi.append(k)\n",
        "\n",
        "print(loss.item())"
      ],
      "metadata": {
        "id": "I9BV42Cc8Oy3",
        "colab": {
          "base_uri": "https://localhost:8080/"
        },
        "outputId": "a93a0f5f-ba7e-4197-cc2b-2e4dffe82462",
        "collapsed": true
      },
      "execution_count": 81,
      "outputs": [
        {
          "output_type": "stream",
          "name": "stdout",
          "text": [
            "1.9837089776992798\n"
          ]
        }
      ]
    },
    {
      "cell_type": "code",
      "source": [
        "\n",
        "plt.plot(stepi , lossi)"
      ],
      "metadata": {
        "id": "ZWCXgCe18O2f",
        "colab": {
          "base_uri": "https://localhost:8080/",
          "height": 447
        },
        "outputId": "b4242939-b5e1-4cca-c5b3-b2fcc5ea3637",
        "collapsed": true
      },
      "execution_count": 67,
      "outputs": [
        {
          "output_type": "execute_result",
          "data": {
            "text/plain": [
              "[<matplotlib.lines.Line2D at 0x79ba1e6bbf10>]"
            ]
          },
          "metadata": {},
          "execution_count": 67
        },
        {
          "output_type": "display_data",
          "data": {
            "text/plain": [
              "<Figure size 640x480 with 1 Axes>"
            ],
            "image/png": "[encoded data removed]"
          },
          "metadata": {}
        }
      ]
    },
    {
      "cell_type": "code",
      "source": [
        "# training split for parameters w and b , validation split  this for hyperparameters  , test split\n",
        "emb = C[Xtr] # (32, 3, 2)\n",
        "h = torch.tanh(emb.view(-1, 30) @ W1 + b1) # (32, 100)\n",
        "logits = h @ W2 + b2 # (32, 27)\n",
        "loss = F.cross_entropy(logits, Ytr)\n",
        "loss\n",
        "\n",
        "\n",
        "\n"
      ],
      "metadata": {
        "id": "6bhhF8Jz8O6I",
        "collapsed": true,
        "colab": {
          "base_uri": "https://localhost:8080/"
        },
        "outputId": "6c05b9b1-30d1-404c-bfc1-f7b2808be6df"
      },
      "execution_count": 68,
      "outputs": [
        {
          "output_type": "execute_result",
          "data": {
            "text/plain": [
              "tensor(2.1609, grad_fn=<NllLossBackward0>)"
            ]
          },
          "metadata": {},
          "execution_count": 68
        }
      ]
    },
    {
      "cell_type": "code",
      "source": [
        "emb = C[Xdev] # (32, 3, 2)\n",
        "h = torch.tanh(emb.view(-1, 30) @ W1 + b1) # (32, 100)\n",
        "logits = h @ W2 + b2 # (32, 27)\n",
        "loss = F.cross_entropy(logits, Ydev)\n",
        "loss"
      ],
      "metadata": {
        "id": "qWtAS6u_ixkX",
        "colab": {
          "base_uri": "https://localhost:8080/"
        },
        "outputId": "320431e6-0b7c-4a97-94a1-7d792459ec9f"
      },
      "execution_count": 69,
      "outputs": [
        {
          "output_type": "execute_result",
          "data": {
            "text/plain": [
              "tensor(2.1883, grad_fn=<NllLossBackward0>)"
            ]
          },
          "metadata": {},
          "execution_count": 69
        }
      ]
    },
    {
      "cell_type": "code",
      "source": [
        "plt.figure(figsize=(8,8))\n",
        "plt.scatter(C[:,0].data, C[:,1].data, s=200)\n",
        "for i in range(C.shape[0]):\n",
        "    plt.text(C[i,0].item(), C[i,1].item(), itos[i], ha=\"center\", va=\"center\", color='white')\n",
        "plt.grid('minor')"
      ],
      "metadata": {
        "id": "OLfuGDwaixob",
        "colab": {
          "base_uri": "https://localhost:8080/",
          "height": 676
        },
        "outputId": "24fac32d-9935-4b6a-9b17-89b408e21108"
      },
      "execution_count": 34,
      "outputs": [
        {
          "output_type": "display_data",
          "data": {
            "text/plain": [
              "<Figure size 800x800 with 1 Axes>"
            ],
            "image/png": "[encoded data removed]"
          },
          "metadata": {}
        }
      ]
    },
    {
      "cell_type": "code",
      "source": [
        "# we see model is underfitting that means it has high bias , and is not able to learn underlying pattern in data , this happens if the model is too simple which i have dealt with ,\n",
        "# by increasing the hidden layer size from 100 to 300 and other reason can be no of insufficient features in the training data or too less parameters in the model ,\n",
        "# by increasing the size of embedding layer we can make the model more complex by adding more learnable parameters ,because  A larger embedding can capture more nuanced relationships between characters.\n"
      ],
      "metadata": {
        "id": "2hva8H-5ixrQ"
      },
      "execution_count": null,
      "outputs": []
    },
    {
      "cell_type": "code",
      "source": [
        "# sample from the model\n",
        "g = torch.Generator().manual_seed(2147483647 + 10)\n",
        "\n",
        "for _ in range(20):\n",
        "\n",
        "    out = []\n",
        "    context = [0] * block_size # initialize with all ...\n",
        "    while True:\n",
        "      emb = C[torch.tensor([context])] # (1,block_size,d)\n",
        "      h = torch.tanh(emb.view(1, -1) @ W1 + b1)\n",
        "      logits = h @ W2 + b2\n",
        "      probs = F.softmax(logits, dim=1)\n",
        "      ix = torch.multinomial(probs, num_samples=1, generator=g).item()\n",
        "      context = context[1:] + [ix]\n",
        "      out.append(ix)\n",
        "      if ix == 0:\n",
        "        break\n",
        "\n",
        "    print(''.join(itos[i] for i in out))"
      ],
      "metadata": {
        "id": "XVC7B5O6Y9yo",
        "colab": {
          "base_uri": "https://localhost:8080/"
        },
        "outputId": "2e2a71a5-a12b-47fd-e541-52f376b50eb0"
      },
      "execution_count": 82,
      "outputs": [
        {
          "output_type": "stream",
          "name": "stdout",
          "text": [
            "mora.\n",
            "mayah.\n",
            "seel.\n",
            "nduriah.\n",
            "remmadieja.\n",
            "leg.\n",
            "azee.\n",
            "daeliianni.\n",
            "jen.\n",
            "eden.\n",
            "van.\n",
            "nar.\n",
            "elyzion.\n",
            "kasin.\n",
            "shabergshiriel.\n",
            "jacie.\n",
            "jennex.\n",
            "thana.\n",
            "ubelled.\n",
            "ryyah.\n"
          ]
        }
      ]
    },
    {
      "cell_type": "code",
      "source": [],
      "metadata": {
        "id": "xtKmfBf7ixtx"
      },
      "execution_count": null,
      "outputs": []
    },
    {
      "cell_type": "code",
      "source": [],
      "metadata": {
        "id": "bZE49AeNixy3"
      },
      "execution_count": null,
      "outputs": []
    },
    {
      "cell_type": "code",
      "source": [],
      "metadata": {
        "id": "OXauW6O8ix1v"
      },
      "execution_count": null,
      "outputs": []
    },
    {
      "cell_type": "code",
      "source": [],
      "metadata": {
        "id": "1nHZYlwOix4r"
      },
      "execution_count": null,
      "outputs": []
    },
    {
      "cell_type": "code",
      "source": [],
      "metadata": {
        "id": "-kmMLEwTix7c"
      },
      "execution_count": null,
      "outputs": []
    },
    {
      "cell_type": "code",
      "source": [],
      "metadata": {
        "id": "JTRFYWvdiyBC"
      },
      "execution_count": null,
      "outputs": []
    }
  ]
}