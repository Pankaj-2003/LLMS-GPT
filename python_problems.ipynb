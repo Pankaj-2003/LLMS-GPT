{
  "cells": [
    {
      "cell_type": "markdown",
      "metadata": {
        "id": "view-in-github",
        "colab_type": "text"
      },
      "source": [
        "<a href=\"https://colab.research.google.com/github/Pankaj-2003/LLMS-GPT/blob/main/python_problems.ipynb\" target=\"_parent\"><img src=\"https://colab.research.google.com/assets/colab-badge.svg\" alt=\"Open In Colab\"/></a>"
      ]
    },
    {
      "cell_type": "code",
      "execution_count": null,
      "metadata": {
        "id": "Shc6PEDODOju"
      },
      "outputs": [],
      "source": [
        "# problem 1 -swap 1st and last element of list\n",
        "def swap(the_list):\n",
        "  temp = the_list[0]\n",
        "  the_list[0] = the_list[-1]\n",
        "  the_list[-1] = temp\n",
        "  return the_list"
      ]
    },
    {
      "cell_type": "code",
      "execution_count": null,
      "metadata": {
        "id": "Dk9SujhsEyhb"
      },
      "outputs": [],
      "source": [
        "# problem 2 , Given a list in Python and provided the positions of the elements, write a program to swap the two elements in the list.\n",
        "input= [1, 2,3,4,5]\n",
        "pos1 = 2\n",
        "pos2 = 5\n",
        "def swap_given_pos(input , pos1 , pos2):\n",
        "\n",
        "  input[pos1-1] , input[pos2-1] = input[pos2-1] , input[pos1-1]\n",
        "  return input"
      ]
    },
    {
      "cell_type": "code",
      "execution_count": null,
      "metadata": {
        "id": "I80UQBUFE5Ew"
      },
      "outputs": [],
      "source": [
        "# problem 3 , Given a list of integers with duplicate elements in it. The task is to generate another list, which contains only the duplicate elements. In simple words, the new list should contain elements that appear as more than one.\n",
        "input =  [10, 20, 30, 20, 20, 30, 40, 50, -20, 60, 60, -20, -20]\n",
        "\n",
        "def duplicate_list(input):\n",
        "  unique = []\n",
        "  duplicate = []\n",
        "  for i in input:\n",
        "    if i not in unique:\n",
        "      unique.append(i)\n",
        "    else:\n",
        "      if i not in duplicate:\n",
        "        duplicate.append(i)\n",
        "  return duplicate\n",
        "\n",
        "\n"
      ]
    },
    {
      "cell_type": "code",
      "execution_count": null,
      "metadata": {
        "id": "VXEh0SAWGguC"
      },
      "outputs": [],
      "source": [
        "# problems on list of list\n",
        "# problem 4 , remove empty list\n",
        "input = [5, 6, [], 3, [], [], 9]\n",
        "def remove_empty_list(input):\n",
        "  input = [i for i in input if i != []]\n",
        "  return input\n"
      ]
    },
    {
      "cell_type": "code",
      "execution_count": null,
      "metadata": {
        "colab": {
          "base_uri": "https://localhost:8080/"
        },
        "id": "FHzkfsxeIkFt",
        "outputId": "8c31da2a-c86e-4049-ed25-7aa818d35e16"
      },
      "outputs": [
        {
          "data": {
            "text/plain": [
              "[5, 6, 3, 9]"
            ]
          },
          "execution_count": 26,
          "metadata": {},
          "output_type": "execute_result"
        }
      ],
      "source": [
        "# problem5\n",
        "# Given a List, extract all elements whose frequency is greater than K.\n",
        "input = [4, 6, 4, 3, 3, 4, 3, 4, 3, 8]\n",
        "K = 3\n",
        "def greater_than(input):\n",
        "  for i in input:\n",
        "    pass\n"
      ]
    },
    {
      "cell_type": "code",
      "execution_count": null,
      "metadata": {
        "id": "kXUZizVWIkI7"
      },
      "outputs": [],
      "source": [
        "# 50 array interview questions\n",
        "# question 1\n",
        "def peakElement(arr, n):\n",
        "\n",
        "    if n ==1:\n",
        "        print(\"yes\")\n",
        "        return 1\n",
        "\n",
        "    else:\n",
        "\n",
        "        for i in range(n):\n",
        "\n",
        "            if i == 0:\n",
        "\n",
        "                if arr[i] >= arr[i + 1]:\n",
        "\n",
        "                    return i\n",
        "                else:\n",
        "                  continue\n",
        "\n",
        "            elif i == n-1:\n",
        "                if arr[i] >= arr[i - 1]:\n",
        "\n",
        "                    return i\n",
        "            else:\n",
        "                if arr[i] >= arr[i-1] and arr[i] >= arr[i+1]:\n",
        "\n",
        "                    return i"
      ]
    },
    {
      "cell_type": "code",
      "execution_count": null,
      "metadata": {
        "id": "_GWKiVkxIkMc"
      },
      "outputs": [],
      "source": [
        "# question 2 max and min element\n",
        "def get_min_max(arr):\n",
        "    min_ele = arr[0]\n",
        "    max_ele = arr[0]\n",
        "    for i in range(len(arr)):\n",
        "        if arr[i] > max_ele:\n",
        "            max_ele = arr[i]\n",
        "        elif arr[i] < min_ele:\n",
        "            min_ele = arr[i]\n",
        "    return [min_ele , max_ele]"
      ]
    },
    {
      "cell_type": "code",
      "execution_count": null,
      "metadata": {
        "id": "H_vIAsm9IkP7"
      },
      "outputs": [],
      "source": [
        "# question 3\n",
        "def reverseWord(s) -> str:\n",
        "    s = list(s)\n",
        "    start , end = 0 , len(s) - 1\n",
        "    while start < end:\n",
        "      s[start] , s[end] = s[end] , s[start]\n",
        "      start += 1\n",
        "      end -= 1\n",
        "    return \"\".join(s)"
      ]
    },
    {
      "cell_type": "code",
      "execution_count": null,
      "metadata": {
        "colab": {
          "base_uri": "https://localhost:8080/"
        },
        "id": "msM8ixqFIkTK",
        "outputId": "0d44b4f9-d116-4ace-f6fc-f796fe2b9a10"
      },
      "outputs": [
        {
          "name": "stdout",
          "output_type": "stream",
          "text": [
            "[1, 2, 5, 5, 6]\n"
          ]
        }
      ],
      "source": [
        "arr = [5, 2, 1, 5, 6]\n",
        "# bubble\n",
        "k = len(arr) -1\n",
        "for i in range(k):\n",
        "  for j in range(len(arr)-1):\n",
        "    if arr[j] > arr[j+1]:\n",
        "      arr[j] , arr[j + 1] = arr[j +1] , arr[j]\n",
        "print(arr)"
      ]
    },
    {
      "cell_type": "code",
      "execution_count": null,
      "metadata": {
        "id": "XWaP-p63IkXC"
      },
      "outputs": [],
      "source": [
        "arr = [5, 2, 1, 5, 6]\n",
        "# selection sort\n",
        "for i in range(len(arr)):\n",
        "  min_idx = i\n",
        "  for j in range(i + 1 , len(arr)):\n",
        "    if arr[j] < arr[min_idx]:\n",
        "      min_idx = j\n",
        "  arr[i] , arr[min_idx] =  arr[min_idx] , arr[i]\n"
      ]
    },
    {
      "cell_type": "code",
      "execution_count": null,
      "metadata": {
        "id": "7gxKyZMkIkbM"
      },
      "outputs": [],
      "source": [
        "# question 4 find the kth smallest element in the array\n",
        "def kthSmallest(self,arr, l, r, k):\n",
        "\n",
        "    '''\n",
        "    arr : given array\n",
        "    l : starting index of the array i.e 0\n",
        "    r : ending index of the array i.e size-1\n",
        "    k : find kth smallest element and return using this function\n",
        "    '''\n",
        "    for i in range(k):\n",
        "        min_idx = 0\n",
        "        kth_smallest = arr[0]\n",
        "        for j in range(l +1 , len(arr)):\n",
        "            if arr[j] < arr[min_idx]:\n",
        "\n",
        "                min_idx = j\n",
        "        kth_smallest = arr[min_idx]\n",
        "        arr.remove(arr[min_idx])\n",
        "\n",
        "    return kth_smallest\n",
        "\n",
        "\n",
        "# took more time\n",
        "\n"
      ]
    },
    {
      "cell_type": "code",
      "execution_count": null,
      "metadata": {
        "colab": {
          "background_save": true
        },
        "id": "f49G-mpJS1qZ"
      },
      "outputs": [],
      "source": [
        "# another method\n",
        "def kthSmallest(arr, l, r, k):\n",
        "\n",
        "    '''\n",
        "    arr : given array\n",
        "    l : starting index of the array i.e 0\n",
        "    r : ending index of the array i.e size-1\n",
        "    k : find kth smallest element and return using this function\n",
        "    '''\n",
        "    for i in range(iter):\n",
        "        for j in range(r):\n",
        "            if arr[j] > arr[j+1]:\n",
        "                arr[j] , arr[j+1] = arr[j+1] , arr[j]\n",
        "    return arr[k-1]\n",
        "\n"
      ]
    },
    {
      "cell_type": "code",
      "execution_count": 1,
      "metadata": {
        "id": "9xHeujafS-on"
      },
      "outputs": [],
      "source": [
        "# finding kth smallest using min heap\n",
        "import heapq\n",
        "def kth_smallest_element(arr , k):\n",
        "  min_heap = arr[:] # copy of array\n",
        "  heapq.heapify(min_heap) # creating a min heap\n",
        "  for _ in range(k-1): # iterating over that heap to get the kth smallest element by min heap deletion\n",
        "    heapq.heappop(min_heap)\n",
        "    # we have removed all small elements before the kth element\n",
        "  kth_smallest = heapq.heappop(min_heap)# so here we remove and store the kth smallest element\n",
        "\n",
        "  max_heap = [-x for x in arr] # we negate the values so that the smallest becomes the largest and min heap will take it as largest\n",
        "  heapq.heapify(max_heap)\n",
        "\n",
        "  for _ in range(k-1):\n",
        "    heapq.heappop(max_heap)\n",
        "  kth_largest = - heapq.heappop(max_heap) # getting back the positive value\n",
        "  return kth_smallest , kth_largest\n",
        "\n",
        "\n",
        "\n",
        "\n"
      ]
    },
    {
      "cell_type": "code",
      "execution_count": null,
      "metadata": {
        "id": "rUJE1d9eS-rQ"
      },
      "outputs": [],
      "source": [
        "# sort array of 0's , 1's and 2's using dutch national flag algorithm\n",
        "def sort012(arr,n):\n",
        "    low = 0\n",
        "    mid = 0\n",
        "    high = n-1\n",
        "    while mid <= high:\n",
        "        if arr[mid] == 0:\n",
        "            arr[mid] , arr[low] = arr[low] , arr[mid]\n",
        "            low += 1\n",
        "            mid += 1\n",
        "        elif arr[mid] == 2:\n",
        "            arr[mid] ,arr[high] = arr[high] , arr[mid]\n",
        "            high -= 1\n",
        "        else:\n",
        "            mid += 1\n",
        "    return arr\n",
        "\n"
      ]
    },
    {
      "cell_type": "code",
      "execution_count": null,
      "metadata": {
        "id": "i4Y1pnHuS-uC"
      },
      "outputs": [],
      "source": []
    },
    {
      "cell_type": "code",
      "execution_count": null,
      "metadata": {
        "id": "Pq84lEqvS-we"
      },
      "outputs": [],
      "source": []
    },
    {
      "cell_type": "code",
      "execution_count": null,
      "metadata": {
        "id": "gty28sxMS-yn"
      },
      "outputs": [],
      "source": []
    }
  ],
  "metadata": {
    "colab": {
      "provenance": [],
      "authorship_tag": "ABX9TyNGhsRv3QnSHuyTwAzxED8a",
      "include_colab_link": true
    },
    "kernelspec": {
      "display_name": "Python 3",
      "name": "python3"
    },
    "language_info": {
      "name": "python"
    }
  },
  "nbformat": 4,
  "nbformat_minor": 0
}